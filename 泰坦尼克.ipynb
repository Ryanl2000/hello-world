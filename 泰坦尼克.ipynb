{
 "cells": [
  {
   "cell_type": "code",
   "execution_count": 1,
   "id": "aa9a6f50-1dc9-482f-903e-58401e1c713c",
   "metadata": {},
   "outputs": [],
   "source": [
    "import numpy as np\n",
    "import pandas as pd\n",
    "import matplotlib.pyplot as plt\n",
    "from sklearn.model_selection import cross_val_score,train_test_split\n",
    "from sklearn.ensemble import RandomForestRegressor as RFR\n",
    "from sklearn.ensemble import RandomForestClassifier as RFC\n",
    "from sklearn.svm import SVC\n",
    "from sklearn.impute import SimpleImputer\n",
    "from sklearn.preprocessing import LabelEncoder,OrdinalEncoder,StandardScaler\n",
    "from sklearn.model_selection import GridSearchCV,StratifiedShuffleSplit\n",
    "from sklearn.linear_model import LogisticRegression as LR\n",
    "from sklearn.linear_model import LinearRegression,Lasso\n",
    "from sklearn.preprocessing import PolynomialFeatures as PF\n",
    "from sklearn.cluster import KMeans\n",
    "from sklearn.tree import DecisionTreeClassifier\n",
    "from sklearn.naive_bayes import GaussianNB"
   ]
  },
  {
   "cell_type": "code",
   "execution_count": 2,
   "id": "64af46e6-587c-4048-939a-5a6b62399d31",
   "metadata": {},
   "outputs": [],
   "source": [
    "#读取训练数据和测试数据\n",
    "train_data = pd.read_csv('train.csv')\n",
    "test_data = pd.read_csv('test.csv')"
   ]
  },
  {
   "cell_type": "code",
   "execution_count": 3,
   "id": "f3090871-da9f-4c36-a22c-1177732beef1",
   "metadata": {
    "tags": []
   },
   "outputs": [],
   "source": [
    "#提取特征和标签，并去除无用项\n",
    "X_train = train_data.iloc[:,2:]\n",
    "X_test = test_data.iloc[:,1:]\n",
    "Y_train = train_data.iloc[:,1]"
   ]
  },
  {
   "cell_type": "code",
   "execution_count": 4,
   "id": "48bab976-8899-4e36-ab84-7f96331dbb98",
   "metadata": {},
   "outputs": [
    {
     "name": "stdout",
     "output_type": "stream",
     "text": [
      "<class 'pandas.core.frame.DataFrame'>\n",
      "RangeIndex: 418 entries, 0 to 417\n",
      "Data columns (total 10 columns):\n",
      " #   Column    Non-Null Count  Dtype  \n",
      "---  ------    --------------  -----  \n",
      " 0   Pclass    418 non-null    int64  \n",
      " 1   Name      418 non-null    object \n",
      " 2   Sex       418 non-null    object \n",
      " 3   Age       332 non-null    float64\n",
      " 4   SibSp     418 non-null    int64  \n",
      " 5   Parch     418 non-null    int64  \n",
      " 6   Ticket    418 non-null    object \n",
      " 7   Fare      417 non-null    float64\n",
      " 8   Cabin     91 non-null     object \n",
      " 9   Embarked  418 non-null    object \n",
      "dtypes: float64(2), int64(3), object(5)\n",
      "memory usage: 32.8+ KB\n"
     ]
    }
   ],
   "source": [
    "X_test.info()"
   ]
  },
  {
   "cell_type": "code",
   "execution_count": 5,
   "id": "76c59674-27b4-438e-830a-f086824b2b94",
   "metadata": {},
   "outputs": [
    {
     "data": {
      "text/plain": [
       "0       NaN\n",
       "1       C85\n",
       "2       NaN\n",
       "3      C123\n",
       "4       NaN\n",
       "       ... \n",
       "886     NaN\n",
       "887     B42\n",
       "888     NaN\n",
       "889    C148\n",
       "890     NaN\n",
       "Name: Cabin, Length: 891, dtype: object"
      ]
     },
     "execution_count": 5,
     "metadata": {},
     "output_type": "execute_result"
    }
   ],
   "source": [
    "#先处理Cabin特征\n",
    "X_train.loc[:,'Cabin']"
   ]
  },
  {
   "cell_type": "code",
   "execution_count": 6,
   "id": "b75250f9-8d52-446c-b7eb-ff077ca2a87e",
   "metadata": {},
   "outputs": [],
   "source": [
    "#Cabin存在大量缺失值，非缺失部分的首位均为字母\n",
    "#先对缺失值以众数进行填充\n",
    "X_train.loc[:,['Age','Cabin','Embarked']] = SimpleImputer(strategy='most_frequent').fit_transform(X_train.loc[:,['Age','Cabin','Embarked']])\n",
    "\n",
    "#提取Cabin中的首字母并进行映射\n",
    "X_train.loc[:,'Cabin'] = X_train.loc[:,'Cabin'].apply(lambda x:x[0])"
   ]
  },
  {
   "cell_type": "code",
   "execution_count": 7,
   "id": "55848ca2-6165-443a-954c-de6a9b4c3203",
   "metadata": {},
   "outputs": [],
   "source": [
    "#同样的方法处理测试集\n",
    "X_test.loc[:,['Age','Cabin','Fare']] = SimpleImputer(strategy='most_frequent').fit_transform(X_test.loc[:,['Age','Cabin','Fare']])\n",
    "X_test.loc[:,'Cabin'] = X_test.loc[:,'Cabin'].apply(lambda x:x[0])"
   ]
  },
  {
   "cell_type": "code",
   "execution_count": 8,
   "id": "6a05e6d6-8a36-4e01-8133-d96efd46e6c8",
   "metadata": {},
   "outputs": [],
   "source": [
    "#在这里采用删除Ticket和Name列，如果后续发现差距较大，可再对两列进行分析\n",
    "X_train.drop(columns=['Name','Ticket'],inplace=True)\n",
    "X_test.drop(columns=['Name','Ticket'],inplace=True)"
   ]
  },
  {
   "cell_type": "code",
   "execution_count": 9,
   "id": "5d583e1a-8054-4f70-a15e-cc2ed1658652",
   "metadata": {},
   "outputs": [],
   "source": [
    "#接下来对各非数值型变量编码\n",
    "#首先提取object类型的列\n",
    "cate = X_train.columns[X_train.dtypes == 'object'].tolist()\n",
    "#剩余列为数值型列\n",
    "col = X_train.columns.tolist()\n",
    "for c in cate:\n",
    "    col.remove(c)"
   ]
  },
  {
   "cell_type": "code",
   "execution_count": 10,
   "id": "40bf8fb2-d47a-461b-97f8-70ac7db4c5ec",
   "metadata": {},
   "outputs": [],
   "source": [
    "#对object类型变量进行编码\n",
    "X_train.loc[:,cate] = OrdinalEncoder().fit_transform(X_train.loc[:,cate])\n",
    "X_test.loc[:,cate] = OrdinalEncoder().fit_transform(X_test.loc[:,cate])"
   ]
  },
  {
   "cell_type": "code",
   "execution_count": 11,
   "id": "d6862f5d-cc02-412b-8c7c-00b41c7e6827",
   "metadata": {},
   "outputs": [],
   "source": [
    "#量纲是否要归一化\n",
    "ss = False\n",
    "#对各特征的值进行量纲统一\n",
    "if ss:\n",
    "    X_train.loc[:,col] = StandardScaler().fit_transform(X_train.loc[:,col])\n",
    "    X_test.loc[:,col] = StandardScaler().fit_transform(X_test.loc[:,col])"
   ]
  },
  {
   "cell_type": "code",
   "execution_count": 12,
   "id": "9622c2e3-b737-4305-82cd-21ccb1e35e7f",
   "metadata": {},
   "outputs": [],
   "source": [
    "#分类训练集和测试集进行建模测试\n",
    "X_train_train,X_train_test,Y_train_train,Y_train_test = train_test_split(X_train,Y_train,test_size=0.3,random_state=420)"
   ]
  },
  {
   "cell_type": "markdown",
   "id": "8dd35a21-c89c-4f1f-abac-87a80411f5a7",
   "metadata": {},
   "source": [
    "## SVC"
   ]
  },
  {
   "cell_type": "code",
   "execution_count": 13,
   "id": "6c9476f4-6228-4691-ac24-8e307494ddab",
   "metadata": {},
   "outputs": [],
   "source": [
    "#建模SVC\n",
    "clf = SVC(kernel='rbf'\n",
    "         ,C=1\n",
    "         ,cache_size=10000\n",
    "         ).fit(X_train,Y_train)"
   ]
  },
  {
   "cell_type": "code",
   "execution_count": null,
   "id": "bec9e97c-8f8a-419f-8825-9c4874dccdba",
   "metadata": {},
   "outputs": [],
   "source": [
    "#建模SVC\n",
    "clf = SVC(kernel='linear'\n",
    "          ,C=1\n",
    "          ,cache_size=10000\n",
    "          ,random_state=0\n",
    "         ).fit(X_train,Y_train)"
   ]
  },
  {
   "cell_type": "code",
   "execution_count": null,
   "id": "469b3546-3e6f-49cc-8e1b-c30e0a3dfbed",
   "metadata": {},
   "outputs": [],
   "source": [
    "#交叉验证\n",
    "cross_val_score(clf,X_train,Y_train,cv=10,scoring='accuracy')"
   ]
  },
  {
   "cell_type": "code",
   "execution_count": null,
   "id": "7a52d58a-c0ac-4791-95c2-d33ddfb1604d",
   "metadata": {},
   "outputs": [],
   "source": [
    "#建模测试SVC\n",
    "Kernel = ['linear','poly','rbf','sigmoid']\n",
    "\n",
    "for kernel in Kernel:\n",
    "    clf = SVC(kernel=kernel\n",
    "             ,C=1\n",
    "             ,gamma='auto'\n",
    "             ,degree=1\n",
    "             ,cache_size=10000\n",
    "             ,random_state=0\n",
    "             ).fit(X_train_train,Y_train_train)\n",
    "    print('当Kernel为%s时的分数为：%f' % (kernel,clf.score(X_train_test, Y_train_test)))"
   ]
  },
  {
   "cell_type": "code",
   "execution_count": null,
   "id": "4281b41a-6a3d-48e1-89a4-a753b7a3b833",
   "metadata": {
    "tags": []
   },
   "outputs": [],
   "source": [
    "#Time Warning:2-3min\n",
    "run = False\n",
    "#rbf和linear分数一样的情况下，进行网格搜索，确定最佳的gamma值和C值，来看rbf会不会进一步提升\n",
    "if run:\n",
    "    gamma_range = np.logspace(-1,1,20)\n",
    "    C_range = np.linspace(1,5,100)\n",
    "\n",
    "    param_grid = dict(gamma = gamma_range,C = C_range)\n",
    "    #相当于交叉验证\n",
    "    cv = StratifiedShuffleSplit(n_splits=5, test_size=0.3, random_state=420)\n",
    "\n",
    "    grid = GridSearchCV(SVC(kernel='rbf',cache_size=10000)\n",
    "                       ,param_grid=param_grid\n",
    "                       ,cv=cv\n",
    "                       )\n",
    "    grid.fit(X_train_train,Y_train_train)\n",
    "    print(grid.best_params_)\n",
    "    print(grid.best_score_)"
   ]
  },
  {
   "cell_type": "code",
   "execution_count": null,
   "id": "f279194c-5339-4905-9193-6c9d5a149db6",
   "metadata": {},
   "outputs": [],
   "source": [
    "#调节C值，看linear会不会有提升\n",
    "C_range = np.linspace(0.1,20,100)\n",
    "score = []\n",
    "for i in C_range:\n",
    "    svc = SVC(kernel='linear',C=i,cache_size=10000).fit(X_train_train,Y_train_train)\n",
    "    score.append(svc.score(X_train_test,Y_train_test))\n",
    "print(max(score),C_range[score.index(max(score))])\n",
    "plt.plot(C_range,score)\n",
    "plt.show()"
   ]
  },
  {
   "cell_type": "code",
   "execution_count": null,
   "id": "00c881c2-b994-46c8-a429-bd3db06a986a",
   "metadata": {},
   "outputs": [],
   "source": [
    "#基于rbf的结果再次建模\n",
    "clf_rbf = SVC(kernel='linear'\n",
    "             ,C=1\n",
    "             ,cache_size=10000\n",
    "             ,random_state=0\n",
    "             ).fit(X_train_train,Y_train_train)\n",
    "clf_rbf.score(X_train_test, Y_train_test)"
   ]
  },
  {
   "cell_type": "code",
   "execution_count": null,
   "id": "c50383bd-ee2d-4741-9bb1-c051c315a555",
   "metadata": {},
   "outputs": [],
   "source": [
    "#最终的调参结果为linear最佳\n",
    "\n",
    "#使用linear对训练集进行训练，并计算测试集的y值\n",
    "clf_finall = SVC(kernel='linear'\n",
    "             ,C=1\n",
    "             ,cache_size=10000\n",
    "             ,random_state=0\n",
    "             ).fit(X_train,Y_train)\n",
    "Y_test = clf_finall.predict(X_test)\n",
    "Y_test = pd.DataFrame(Y_test)"
   ]
  },
  {
   "cell_type": "code",
   "execution_count": null,
   "id": "b3071997-d2d2-45fb-b383-ec2aba2a20dd",
   "metadata": {},
   "outputs": [],
   "source": [
    "#输出SVC结果\n",
    "write = False\n",
    "if write == True:\n",
    "    Y_test.to_csv('0304result.csv')"
   ]
  },
  {
   "cell_type": "markdown",
   "id": "b754c310-616d-47fd-bc49-c39e13afbc4d",
   "metadata": {},
   "source": [
    "## 逻辑回归"
   ]
  },
  {
   "cell_type": "code",
   "execution_count": null,
   "id": "dae49e9d-90af-4ffb-90b6-ce3626f96758",
   "metadata": {},
   "outputs": [],
   "source": [
    "#建模测试逻辑回归\n",
    "lr = LR(penalty='l2'\n",
    "       ,C=1\n",
    "       ,max_iter=200\n",
    "       #,solver='saga'\n",
    "       ).fit(X_train_train,Y_train_train)\n",
    "lr.score(X_train_test,Y_train_test)"
   ]
  },
  {
   "cell_type": "code",
   "execution_count": null,
   "id": "1c6be410-311a-4127-840d-7d833b8c9c7b",
   "metadata": {
    "tags": []
   },
   "outputs": [],
   "source": [
    "# Time Warning:5+ Min\n",
    "run = False\n",
    "\n",
    "#网格搜索逻辑回归\n",
    "if run:\n",
    "    max_iter_range = np.arange(200,1000,20)\n",
    "    C_range = np.linspace(0.1,100,100)\n",
    "\n",
    "    param_grid = dict(max_iter = max_iter_range,C = C_range)\n",
    "    #相当于交叉验证\n",
    "    cv = StratifiedShuffleSplit(n_splits=5, test_size=0.3, random_state=420)\n",
    "\n",
    "    grid = GridSearchCV(LR()\n",
    "                       ,param_grid=param_grid\n",
    "                       ,cv=cv\n",
    "                       )\n",
    "    grid.fit(X_train_train,Y_train_train)\n",
    "    print(grid.best_params_)\n",
    "    print(grid.best_score_)"
   ]
  },
  {
   "cell_type": "code",
   "execution_count": null,
   "id": "274af442-e0f3-436a-89d3-7861594e5ddc",
   "metadata": {},
   "outputs": [],
   "source": [
    "#调节C值，看LR会不会有提升\n",
    "C_range = np.linspace(0.01,10,100)\n",
    "score = []\n",
    "for i in C_range:\n",
    "    lr_ = LR(C=i,solver='saga').fit(X_train_train,Y_train_train)\n",
    "    score.append(lr_.score(X_train_test,Y_train_test))\n",
    "print(max(score),C_range[score.index(max(score))])\n",
    "plt.plot(C_range,score)\n",
    "plt.show()"
   ]
  },
  {
   "cell_type": "code",
   "execution_count": null,
   "id": "1543c778-bf17-4dce-8d8e-b031a9001bc9",
   "metadata": {},
   "outputs": [],
   "source": [
    "#使用逻辑回归进行模型预测\n",
    "lr_finall = LR(C=1.1\n",
    "             ).fit(X_train,Y_train)\n",
    "Y_test = lr_finall.predict(X_test)\n",
    "Y_test = pd.DataFrame(Y_test)"
   ]
  },
  {
   "cell_type": "code",
   "execution_count": null,
   "id": "dc916082-74df-4c1e-9311-3280b2217a15",
   "metadata": {},
   "outputs": [],
   "source": [
    "#输出逻辑回归结果\n",
    "write = False\n",
    "if write == True:\n",
    "    Y_test.to_csv('0306result.csv')"
   ]
  },
  {
   "cell_type": "markdown",
   "id": "2d27a47e-6a5a-4d54-8cf1-20b83c0f1939",
   "metadata": {},
   "source": [
    "## 随机森林"
   ]
  },
  {
   "cell_type": "code",
   "execution_count": 45,
   "id": "7042dfd7-554c-4233-8ccb-4300afff9d8b",
   "metadata": {},
   "outputs": [
    {
     "data": {
      "text/plain": [
       "0.8470149253731343"
      ]
     },
     "execution_count": 45,
     "metadata": {},
     "output_type": "execute_result"
    }
   ],
   "source": [
    "#建模随机森林\n",
    "rfc = RFC(n_estimators=100\n",
    "         ,criterion='entropy'\n",
    "         ,max_depth=5\n",
    "         ).fit(X_train_train,Y_train_train)\n",
    "rfc.score(X_train_test,Y_train_test)"
   ]
  },
  {
   "cell_type": "code",
   "execution_count": 41,
   "id": "2f56cca8-fac8-44b9-8fc9-349bba7329ff",
   "metadata": {
    "tags": []
   },
   "outputs": [
    {
     "name": "stdout",
     "output_type": "stream",
     "text": [
      "{'max_depth': 5, 'n_estimators': 100}\n",
      "0.8224598930481284\n"
     ]
    }
   ],
   "source": [
    "# Time Warning:5+ Min\n",
    "run = True\n",
    "\n",
    "#网格搜索随机森林\n",
    "if run:\n",
    "    max_depth_range = np.arange(2,6)\n",
    "    n_estimators_range = np.arange(100,501,100)\n",
    "\n",
    "    param_grid = dict(max_depth = max_depth_range,n_estimators = n_estimators_range)\n",
    "    #相当于交叉验证\n",
    "    cv = StratifiedShuffleSplit(n_splits=5, test_size=0.3, random_state=420)\n",
    "\n",
    "    grid = GridSearchCV(RFC(random_state=None\n",
    "                            ,criterion='entropy'\n",
    "                           )\n",
    "                       ,param_grid=param_grid\n",
    "                       ,cv=cv\n",
    "                       )\n",
    "    grid.fit(X_train_train,Y_train_train)\n",
    "    print(grid.best_params_)\n",
    "    print(grid.best_score_)"
   ]
  },
  {
   "cell_type": "code",
   "execution_count": 162,
   "id": "946be7c9-1ab2-4c78-a76a-aa99c8ca6fbf",
   "metadata": {},
   "outputs": [
    {
     "name": "stdout",
     "output_type": "stream",
     "text": [
      "0.8641975308641975\n"
     ]
    }
   ],
   "source": [
    "#使用随机森林进行模型预测\n",
    "rfc_finall = RFC(n_estimators=500\n",
    "                 ,criterion='entropy'\n",
    "                 ,max_depth=5\n",
    "                 ).fit(X_train,Y_train)\n",
    "print(rfc_finall.score(X_train,Y_train))\n",
    "Y_test = rfc_finall.predict(X_test)\n",
    "Y_test = pd.DataFrame(Y_test)"
   ]
  },
  {
   "cell_type": "code",
   "execution_count": 164,
   "id": "11f3168d-97ae-4081-844b-53b63ca309d3",
   "metadata": {},
   "outputs": [
    {
     "name": "stdout",
     "output_type": "stream",
     "text": [
      "0.8641975308641975\n",
      "0.8585858585858586\n",
      "0.8585858585858586\n",
      "0.8608305274971941\n",
      "0.856341189674523\n",
      "0.8585858585858586\n",
      "0.8529741863075196\n",
      "0.856341189674523\n",
      "0.8597081930415263\n",
      "0.8608305274971941\n",
      "0.8574635241301908\n",
      "0.8608305274971941\n",
      "0.8552188552188552\n",
      "0.8653198653198653\n"
     ]
    }
   ],
   "source": [
    "#取得较高的随机森林分数\n",
    "while rfc_finall.score(X_train,Y_train) < 0.865:\n",
    "    rfc_finall = RFC(n_estimators=500\n",
    "                     ,criterion='entropy'\n",
    "                     ,max_depth=5\n",
    "                     ).fit(X_train,Y_train)\n",
    "    print(rfc_finall.score(X_train,Y_train))"
   ]
  },
  {
   "cell_type": "code",
   "execution_count": 202,
   "id": "4e928388-1a59-423a-8800-4d0af6480398",
   "metadata": {},
   "outputs": [],
   "source": [
    "Y_test = rfc_finall.predict(X_test)\n",
    "Y_test = pd.DataFrame(Y_test)"
   ]
  },
  {
   "cell_type": "code",
   "execution_count": 168,
   "id": "8e2769fc-656e-4516-9feb-0d61346254ce",
   "metadata": {},
   "outputs": [],
   "source": [
    "#输出随机森林结果\n",
    "write = False\n",
    "if write == True:\n",
    "    Y_test.to_csv('0307result.csv')"
   ]
  },
  {
   "cell_type": "code",
   "execution_count": 165,
   "id": "008a4c87-7a0d-488f-abf0-7fbc2de9430d",
   "metadata": {},
   "outputs": [
    {
     "data": {
      "text/plain": [
       "0.8653198653198653"
      ]
     },
     "execution_count": 165,
     "metadata": {},
     "output_type": "execute_result"
    }
   ],
   "source": [
    "rfc_finall.score(X_train,Y_train)"
   ]
  },
  {
   "cell_type": "markdown",
   "id": "55ea30a3-fca8-49bb-8363-9fdfc06278b3",
   "metadata": {},
   "source": [
    "## 线性回归与多元线性回归(有点扯。用回归器跑分类)"
   ]
  },
  {
   "cell_type": "code",
   "execution_count": 171,
   "id": "676d908e-1b5c-42bd-8e54-5d315839407e",
   "metadata": {},
   "outputs": [
    {
     "data": {
      "text/plain": [
       "0.4559388497907918"
      ]
     },
     "execution_count": 171,
     "metadata": {},
     "output_type": "execute_result"
    }
   ],
   "source": [
    "#建模线性回归\n",
    "lir = LinearRegression().fit(X_train_train,Y_train_train)\n",
    "lir.score(X_train_test,Y_train_test)"
   ]
  },
  {
   "cell_type": "code",
   "execution_count": 176,
   "id": "e2532225-7541-4eae-a128-9259edc260e5",
   "metadata": {},
   "outputs": [
    {
     "data": {
      "text/plain": [
       "0.45591591799554976"
      ]
     },
     "execution_count": 176,
     "metadata": {},
     "output_type": "execute_result"
    }
   ],
   "source": [
    "#建模Lasso回归\n",
    "lasso = Lasso(alpha=0.0001).fit(X_train_train,Y_train_train)\n",
    "lasso.score(X_train_test,Y_train_test)"
   ]
  },
  {
   "cell_type": "code",
   "execution_count": 193,
   "id": "4bb0f7a1-b03b-4ea1-8797-fc0aca49dd0b",
   "metadata": {},
   "outputs": [],
   "source": [
    "#进行多元线性回归\n",
    "pf = PF(degree=2)\n",
    "X_train_train_ = pf.fit_transform(X_train_train)\n",
    "X_train_test_ = pf.fit_transform(X_train_test)"
   ]
  },
  {
   "cell_type": "code",
   "execution_count": 194,
   "id": "37da0f94-45f0-4924-9c9a-e3f9e7464943",
   "metadata": {},
   "outputs": [
    {
     "data": {
      "text/plain": [
       "0.3661974637235893"
      ]
     },
     "execution_count": 194,
     "metadata": {},
     "output_type": "execute_result"
    }
   ],
   "source": [
    "#验证多元提升后的效果\n",
    "lir_pf = LinearRegression().fit(X_train_train_,Y_train_train)\n",
    "lir_pf.score(X_train_test_,Y_train_test)"
   ]
  },
  {
   "cell_type": "code",
   "execution_count": 207,
   "id": "f574ac9c-510c-4a5d-a48b-d4a59ed6199a",
   "metadata": {},
   "outputs": [],
   "source": [
    "### 线性回归效果不好，弃用"
   ]
  },
  {
   "cell_type": "markdown",
   "id": "fd3fa067-e747-4804-bf41-4ffdb7b6c414",
   "metadata": {},
   "source": [
    "## 聚类算法Kmeans"
   ]
  },
  {
   "cell_type": "code",
   "execution_count": 197,
   "id": "10a08680-ef8d-4bd1-ad69-c0b79f7b98ab",
   "metadata": {},
   "outputs": [
    {
     "data": {
      "text/plain": [
       "-703499.4156571546"
      ]
     },
     "execution_count": 197,
     "metadata": {},
     "output_type": "execute_result"
    }
   ],
   "source": [
    "#建模Kmeans\n",
    "kmeans = KMeans(n_clusters=2).fit(X_train_train,Y_train_train)\n",
    "kmeans.score(X_train_test,Y_train_test)"
   ]
  },
  {
   "cell_type": "code",
   "execution_count": 198,
   "id": "5640d4c0-4e8f-4248-a48e-fc1ec907e460",
   "metadata": {},
   "outputs": [
    {
     "data": {
      "text/plain": [
       "array([1, 1, 1, 1, 1, 0, 0, 1, 1, 1, 1, 1, 1, 1, 1, 1, 1, 1, 0, 1, 1, 1,\n",
       "       1, 1, 1, 1, 1, 1, 1, 1, 1, 1, 1, 1, 0, 1, 1, 1, 1, 1, 1, 1, 1, 1,\n",
       "       0, 1, 1, 0, 1, 1, 1, 1, 1, 0, 1, 1, 1, 1, 1, 1, 1, 1, 0, 1, 1, 1,\n",
       "       1, 1, 0, 0, 1, 1, 1, 1, 1, 1, 1, 1, 1, 1, 1, 1, 1, 1, 1, 1, 1, 1,\n",
       "       1, 1, 1, 1, 0, 0, 1, 0, 1, 0, 0, 1, 1, 1, 1, 1, 1, 0, 1, 1, 0, 1,\n",
       "       1, 0, 1, 1, 1, 1, 1, 1, 1, 1, 1, 1, 1, 1, 1, 1, 1, 1, 1, 1, 1, 1,\n",
       "       1, 0, 1, 1, 1, 1, 1, 1, 1, 1, 1, 1, 0, 1, 1, 1, 1, 1, 1, 1, 1, 1,\n",
       "       1, 0, 1, 1, 1, 0, 0, 1, 1, 1, 1, 1, 0, 1, 1, 1, 0, 1, 0, 0, 1, 1,\n",
       "       1, 1, 1, 0, 1, 1, 1, 1, 0, 1, 1, 1, 0, 1, 1, 1, 1, 1, 1, 1, 1, 1,\n",
       "       1, 1, 1, 1, 1, 1, 1, 1, 0, 1, 1, 1, 1, 0, 1, 1, 0, 1, 1, 1, 1, 1,\n",
       "       1, 1, 1, 1, 1, 1, 0, 1, 1, 0, 1, 1, 1, 1, 1, 0, 1, 1, 1, 1, 0, 1,\n",
       "       1, 1, 1, 1, 1, 1, 0, 1, 1, 1, 1, 1, 1, 1, 1, 1, 1, 1, 1, 1, 0, 0,\n",
       "       1, 1, 0, 1])"
      ]
     },
     "execution_count": 198,
     "metadata": {},
     "output_type": "execute_result"
    }
   ],
   "source": [
    "kmeans.predict(X_train_test)"
   ]
  },
  {
   "cell_type": "code",
   "execution_count": 199,
   "id": "d3cc32d0-7a3d-40f1-95b2-99da56397dfe",
   "metadata": {},
   "outputs": [],
   "source": [
    "kmeans = KMeans(n_clusters=2).fit(X_train,Y_train)\n",
    "Y_test = kmeans.predict(X_test)\n",
    "Y_test = pd.DataFrame(Y_test)"
   ]
  },
  {
   "cell_type": "code",
   "execution_count": 203,
   "id": "11bc9f73-d8bc-4359-b9f9-7f7a23ca46f8",
   "metadata": {},
   "outputs": [
    {
     "data": {
      "text/plain": [
       "0    286\n",
       "1    132\n",
       "dtype: int64"
      ]
     },
     "execution_count": 203,
     "metadata": {},
     "output_type": "execute_result"
    }
   ],
   "source": [
    "Y_test.value_counts()"
   ]
  },
  {
   "cell_type": "code",
   "execution_count": 204,
   "id": "e0574eb7-4f50-4b68-9924-dd1364c6c0bd",
   "metadata": {},
   "outputs": [
    {
     "data": {
      "text/plain": [
       "0    549\n",
       "1    342\n",
       "Name: Survived, dtype: int64"
      ]
     },
     "execution_count": 204,
     "metadata": {},
     "output_type": "execute_result"
    }
   ],
   "source": [
    "Y_train.value_counts()"
   ]
  },
  {
   "cell_type": "code",
   "execution_count": 208,
   "id": "0b765eea-d02e-4afb-b5c7-19494473f632",
   "metadata": {},
   "outputs": [],
   "source": [
    "### 聚类算法效果不好，弃用"
   ]
  },
  {
   "cell_type": "markdown",
   "id": "12bad443-4a5d-424b-b988-465137377816",
   "metadata": {},
   "source": [
    "## 决策树"
   ]
  },
  {
   "cell_type": "code",
   "execution_count": 238,
   "id": "09e309fa-54f1-4684-98cf-b48ef9b9517f",
   "metadata": {},
   "outputs": [
    {
     "data": {
      "text/plain": [
       "0.8208955223880597"
      ]
     },
     "execution_count": 238,
     "metadata": {},
     "output_type": "execute_result"
    }
   ],
   "source": [
    "#建模决策树\n",
    "dtc = DecisionTreeClassifier(max_depth=5\n",
    "                            # ,criterion='entropy'\n",
    "                            ).fit(X_train_train,Y_train_train)\n",
    "dtc.score(X_train_test,Y_train_test)"
   ]
  },
  {
   "cell_type": "code",
   "execution_count": 247,
   "id": "c7a43553-8642-457a-8f60-f9d49f204ea7",
   "metadata": {},
   "outputs": [
    {
     "data": {
      "image/png": "[encoded data removed]",
      "text/plain": [
       "<Figure size 432x288 with 1 Axes>"
      ]
     },
     "metadata": {
      "needs_background": "light"
     },
     "output_type": "display_data"
    },
    {
     "name": "stdout",
     "output_type": "stream",
     "text": [
      "3 0.835820895522388\n"
     ]
    }
   ],
   "source": [
    "#绘制max_depth学习曲线\n",
    "score = []\n",
    "for i in range(1,10):\n",
    "    dtc = DecisionTreeClassifier(max_depth=i\n",
    "                            # ,criterion='entropy'\n",
    "                            ).fit(X_train_train,Y_train_train)\n",
    "    score.append(dtc.score(X_train_test,Y_train_test))\n",
    "plt.plot(range(1,10),score)\n",
    "plt.show()\n",
    "print(score.index(max(score))+1,max(score))"
   ]
  },
  {
   "cell_type": "code",
   "execution_count": 248,
   "id": "a430ca9f-2004-42e4-a6aa-36992431e46d",
   "metadata": {},
   "outputs": [],
   "source": [
    "#根据学习曲线可知在max_depth为3时的分数最高，以此来建模\n",
    "dtc_finall = DecisionTreeClassifier(max_depth=3\n",
    "                            # ,criterion='entropy'\n",
    "                            ).fit(X_train,Y_train)\n",
    "Y_test = dtc_finall.predict(X_test)\n",
    "Y_test = pd.DataFrame(Y_test)"
   ]
  },
  {
   "cell_type": "code",
   "execution_count": 251,
   "id": "f5010245-8c06-4088-b90b-80079eee7f14",
   "metadata": {},
   "outputs": [],
   "source": [
    "#输出决策树结果\n",
    "write = False\n",
    "if write == True:\n",
    "    Y_test.to_csv('0307result2.csv')"
   ]
  },
  {
   "cell_type": "markdown",
   "id": "e60a144c-b179-425e-9a3c-1cc44f97be19",
   "metadata": {},
   "source": [
    "## 高斯朴素贝叶斯"
   ]
  },
  {
   "cell_type": "code",
   "execution_count": 13,
   "id": "955f93ed-c534-4968-9b7e-1bbb34166f3d",
   "metadata": {},
   "outputs": [
    {
     "data": {
      "text/plain": [
       "0.8097014925373134"
      ]
     },
     "execution_count": 13,
     "metadata": {},
     "output_type": "execute_result"
    }
   ],
   "source": [
    "#建模高斯贝叶斯（测试）\n",
    "gnb = GaussianNB().fit(X_train_train,Y_train_train)\n",
    "gnb.score(X_train_test,Y_train_test)"
   ]
  },
  {
   "cell_type": "code",
   "execution_count": 14,
   "id": "8f04e47b-3295-4a98-9ea5-985d347b5c64",
   "metadata": {},
   "outputs": [],
   "source": [
    "#建模\n",
    "gnb_finall = GaussianNB().fit(X_train,Y_train)\n",
    "Y_test = gnb_finall.predict(X_test)\n",
    "Y_test = pd.DataFrame(Y_test)"
   ]
  },
  {
   "cell_type": "code",
   "execution_count": 16,
   "id": "07ec2f4c-a926-4ae2-bfcc-2ac736f11a61",
   "metadata": {},
   "outputs": [],
   "source": [
    "#输出高斯结果\n",
    "write = False\n",
    "if write == True:\n",
    "    Y_test.to_csv('0308result.csv')"
   ]
  },
  {
   "cell_type": "markdown",
   "id": "158bcca4-dd61-48a0-a0a3-123659ce1966",
   "metadata": {},
   "source": [
    "最终的跑分：\n",
    "随机森林 > 决策树 > 逻辑回归 > SVC(linear) > SVC(rbf)"
   ]
  }
 ],
 "metadata": {
  "kernelspec": {
   "display_name": "Python 3 (ipykernel)",
   "language": "python",
   "name": "python3"
  },
  "language_info": {
   "codemirror_mode": {
    "name": "ipython",
    "version": 3
   },
   "file_extension": ".py",
   "mimetype": "text/x-python",
   "name": "python",
   "nbconvert_exporter": "python",
   "pygments_lexer": "ipython3",
   "version": "3.9.7"
  }
 },
 "nbformat": 4,
 "nbformat_minor": 5
}
